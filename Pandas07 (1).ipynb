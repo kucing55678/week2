{
 "cells": [
  {
   "cell_type": "code",
   "execution_count": 4,
   "id": "89e8e04b",
   "metadata": {},
   "outputs": [],
   "source": [
    "import pandas as hantu #variabel"
   ]
  },
  {
   "cell_type": "code",
   "execution_count": 10,
   "id": "9dce6c75",
   "metadata": {},
   "outputs": [
    {
     "data": {
      "text/html": [
       "<div>\n",
       "<style scoped>\n",
       "    .dataframe tbody tr th:only-of-type {\n",
       "        vertical-align: middle;\n",
       "    }\n",
       "\n",
       "    .dataframe tbody tr th {\n",
       "        vertical-align: top;\n",
       "    }\n",
       "\n",
       "    .dataframe thead th {\n",
       "        text-align: right;\n",
       "    }\n",
       "</style>\n",
       "<table border=\"1\" class=\"dataframe\">\n",
       "  <thead>\n",
       "    <tr style=\"text-align: right;\">\n",
       "      <th></th>\n",
       "      <th>index</th>\n",
       "      <th>A</th>\n",
       "      <th>B</th>\n",
       "      <th>C</th>\n",
       "      <th>D</th>\n",
       "    </tr>\n",
       "  </thead>\n",
       "  <tbody>\n",
       "    <tr>\n",
       "      <th>0</th>\n",
       "      <td>QylJ9T4eDE</td>\n",
       "      <td>-0.109466</td>\n",
       "      <td>0.394478</td>\n",
       "      <td>-0.284534</td>\n",
       "      <td>0.960217</td>\n",
       "    </tr>\n",
       "    <tr>\n",
       "      <th>1</th>\n",
       "      <td>SuRLxD4NLD</td>\n",
       "      <td>-0.197452</td>\n",
       "      <td>0.076064</td>\n",
       "      <td>0.980111</td>\n",
       "      <td>-0.030361</td>\n",
       "    </tr>\n",
       "    <tr>\n",
       "      <th>2</th>\n",
       "      <td>e6NbENfU0V</td>\n",
       "      <td>-1.003960</td>\n",
       "      <td>1.245405</td>\n",
       "      <td>0.510540</td>\n",
       "      <td>-0.400920</td>\n",
       "    </tr>\n",
       "    <tr>\n",
       "      <th>3</th>\n",
       "      <td>IlZqgY2K7g</td>\n",
       "      <td>-0.261359</td>\n",
       "      <td>0.781212</td>\n",
       "      <td>-1.795092</td>\n",
       "      <td>-0.133720</td>\n",
       "    </tr>\n",
       "    <tr>\n",
       "      <th>4</th>\n",
       "      <td>zsp3rMJ4mz</td>\n",
       "      <td>-0.915978</td>\n",
       "      <td>-0.600372</td>\n",
       "      <td>0.416162</td>\n",
       "      <td>-0.764908</td>\n",
       "    </tr>\n",
       "  </tbody>\n",
       "</table>\n",
       "</div>"
      ],
      "text/plain": [
       "        index         A         B         C         D\n",
       "0  QylJ9T4eDE -0.109466  0.394478 -0.284534  0.960217\n",
       "1  SuRLxD4NLD -0.197452  0.076064  0.980111 -0.030361\n",
       "2  e6NbENfU0V -1.003960  1.245405  0.510540 -0.400920\n",
       "3  IlZqgY2K7g -0.261359  0.781212 -1.795092 -0.133720\n",
       "4  zsp3rMJ4mz -0.915978 -0.600372  0.416162 -0.764908"
      ]
     },
     "execution_count": 10,
     "metadata": {},
     "output_type": "execute_result"
    }
   ],
   "source": [
    "df = hantu.util.testing.makeMissingDataframe().reset_index()#perintah untuk menghasilkan dataframe yang memiliki missing value dan mereset index menjadi index yang baru\n",
    "df.head() # perintah untuk memunculkan index yang missing value 5 dari atas saja"
   ]
  },
  {
   "cell_type": "code",
   "execution_count": 11,
   "id": "98ae80a7",
   "metadata": {},
   "outputs": [
    {
     "data": {
      "text/html": [
       "<div>\n",
       "<style scoped>\n",
       "    .dataframe tbody tr th:only-of-type {\n",
       "        vertical-align: middle;\n",
       "    }\n",
       "\n",
       "    .dataframe tbody tr th {\n",
       "        vertical-align: top;\n",
       "    }\n",
       "\n",
       "    .dataframe thead th {\n",
       "        text-align: right;\n",
       "    }\n",
       "</style>\n",
       "<table border=\"1\" class=\"dataframe\">\n",
       "  <thead>\n",
       "    <tr style=\"text-align: right;\">\n",
       "      <th></th>\n",
       "      <th>Z</th>\n",
       "      <th>A</th>\n",
       "      <th>B</th>\n",
       "      <th>C</th>\n",
       "      <th>D</th>\n",
       "    </tr>\n",
       "  </thead>\n",
       "  <tbody>\n",
       "    <tr>\n",
       "      <th>0</th>\n",
       "      <td>QylJ9T4eDE</td>\n",
       "      <td>-0.109466</td>\n",
       "      <td>0.394478</td>\n",
       "      <td>-0.284534</td>\n",
       "      <td>0.960217</td>\n",
       "    </tr>\n",
       "    <tr>\n",
       "      <th>1</th>\n",
       "      <td>SuRLxD4NLD</td>\n",
       "      <td>-0.197452</td>\n",
       "      <td>0.076064</td>\n",
       "      <td>0.980111</td>\n",
       "      <td>-0.030361</td>\n",
       "    </tr>\n",
       "    <tr>\n",
       "      <th>2</th>\n",
       "      <td>e6NbENfU0V</td>\n",
       "      <td>-1.003960</td>\n",
       "      <td>1.245405</td>\n",
       "      <td>0.510540</td>\n",
       "      <td>-0.400920</td>\n",
       "    </tr>\n",
       "    <tr>\n",
       "      <th>3</th>\n",
       "      <td>IlZqgY2K7g</td>\n",
       "      <td>-0.261359</td>\n",
       "      <td>0.781212</td>\n",
       "      <td>-1.795092</td>\n",
       "      <td>-0.133720</td>\n",
       "    </tr>\n",
       "    <tr>\n",
       "      <th>4</th>\n",
       "      <td>zsp3rMJ4mz</td>\n",
       "      <td>-0.915978</td>\n",
       "      <td>-0.600372</td>\n",
       "      <td>0.416162</td>\n",
       "      <td>-0.764908</td>\n",
       "    </tr>\n",
       "  </tbody>\n",
       "</table>\n",
       "</div>"
      ],
      "text/plain": [
       "            Z         A         B         C         D\n",
       "0  QylJ9T4eDE -0.109466  0.394478 -0.284534  0.960217\n",
       "1  SuRLxD4NLD -0.197452  0.076064  0.980111 -0.030361\n",
       "2  e6NbENfU0V -1.003960  1.245405  0.510540 -0.400920\n",
       "3  IlZqgY2K7g -0.261359  0.781212 -1.795092 -0.133720\n",
       "4  zsp3rMJ4mz -0.915978 -0.600372  0.416162 -0.764908"
      ]
     },
     "execution_count": 11,
     "metadata": {},
     "output_type": "execute_result"
    }
   ],
   "source": [
    "df = df.rename(columns={'index':'L'}) #perintah untuk mengubah nama index menjadi L\n",
    "df.head()"
   ]
  },
  {
   "cell_type": "code",
   "execution_count": 9,
   "id": "9c7e2380",
   "metadata": {},
   "outputs": [],
   "source": [
    "df_backup = df.copy(deep=True) #perintah untuk mengcopy Dataframe diatas"
   ]
  },
  {
   "cell_type": "code",
   "execution_count": 12,
   "id": "21d42d79",
   "metadata": {},
   "outputs": [
    {
     "data": {
      "text/html": [
       "<div>\n",
       "<style scoped>\n",
       "    .dataframe tbody tr th:only-of-type {\n",
       "        vertical-align: middle;\n",
       "    }\n",
       "\n",
       "    .dataframe tbody tr th {\n",
       "        vertical-align: top;\n",
       "    }\n",
       "\n",
       "    .dataframe thead th {\n",
       "        text-align: right;\n",
       "    }\n",
       "</style>\n",
       "<table border=\"1\" class=\"dataframe\">\n",
       "  <thead>\n",
       "    <tr style=\"text-align: right;\">\n",
       "      <th></th>\n",
       "      <th>Z</th>\n",
       "    </tr>\n",
       "  </thead>\n",
       "  <tbody>\n",
       "    <tr>\n",
       "      <th>0</th>\n",
       "      <td>QylJ9T4eDE</td>\n",
       "    </tr>\n",
       "    <tr>\n",
       "      <th>1</th>\n",
       "      <td>SuRLxD4NLD</td>\n",
       "    </tr>\n",
       "    <tr>\n",
       "      <th>2</th>\n",
       "      <td>e6NbENfU0V</td>\n",
       "    </tr>\n",
       "    <tr>\n",
       "      <th>3</th>\n",
       "      <td>IlZqgY2K7g</td>\n",
       "    </tr>\n",
       "    <tr>\n",
       "      <th>4</th>\n",
       "      <td>zsp3rMJ4mz</td>\n",
       "    </tr>\n",
       "  </tbody>\n",
       "</table>\n",
       "</div>"
      ],
      "text/plain": [
       "            Z\n",
       "0  QylJ9T4eDE\n",
       "1  SuRLxD4NLD\n",
       "2  e6NbENfU0V\n",
       "3  IlZqgY2K7g\n",
       "4  zsp3rMJ4mz"
      ]
     },
     "execution_count": 12,
     "metadata": {},
     "output_type": "execute_result"
    }
   ],
   "source": [
    "df = df.dropna(axis='columns') #perintah untuk membuang setiap kolom yang mengandung missing value\n",
    "df.head()"
   ]
  },
  {
   "cell_type": "code",
   "execution_count": 13,
   "id": "f94c3196",
   "metadata": {},
   "outputs": [
    {
     "data": {
      "text/plain": [
       "<bound method NDFrame.head of              Z         A         B         C         D\n",
       "2   5tB1NeiAQf  0.428629  1.243468  1.693795  1.258508\n",
       "4   vJ2HgLg0O6  0.531552 -0.878221 -1.770183  1.338376\n",
       "5   KEJZf0VwxO  0.799759  1.335774 -0.363345  1.278813\n",
       "6   mX1fUb79Zp  1.380470  0.055746 -1.298150 -0.411703\n",
       "8   gDZcntfKv6 -0.232199 -0.703130  0.765147  0.398643\n",
       "11  E56MRS4pzF  1.372439 -1.323726 -1.488534  1.692541\n",
       "13  4IALar9FIq -0.359945 -0.212769 -0.326407  0.785532\n",
       "14  NXjlnqNDli  0.388151 -0.301479  0.864181 -0.894271\n",
       "15  q8ysCUkSvy  0.035192 -0.234867  0.060972  0.678511\n",
       "16  y1dmcL23ao -0.866152 -0.603552  1.987340 -1.728200\n",
       "17  iRMCBbUfgM  0.443719 -0.085022  1.339799  0.631995\n",
       "18  Y2ibukpLO1 -0.458727 -0.232762  0.184760  1.143797\n",
       "20  Y5fg6ouSLJ  1.418915 -0.719156  0.277014 -1.361707\n",
       "23  T25YQkzvYs  0.845385  0.203107 -0.952150  0.575522\n",
       "24  cn5pqKyN9x  0.951966 -0.245453  0.612967 -0.152972\n",
       "25  8u0ujiEkTB -0.105696 -0.997461  0.152799 -0.112264\n",
       "26  cVNXBXV92G -0.499468 -2.224445  1.785293 -1.598646\n",
       "27  QqLpvrdzSq -1.366146 -0.041704 -0.413058 -0.023175\n",
       "29  KQ2hrxzhi5  0.925307 -0.419681  0.268668  0.876751>"
      ]
     },
     "execution_count": 13,
     "metadata": {},
     "output_type": "execute_result"
    }
   ],
   "source": [
    "df = df_backup.copy(deep=True) #perintah untuk mengembalikan kondisi dataframe ke bentuk semula\n",
    "df = df.dropna(axis='rows') #perintah untuk membuang setiap baris yang mengandung missing value\n",
    "df.head"
   ]
  },
  {
   "cell_type": "code",
   "execution_count": 14,
   "id": "c536a0ec",
   "metadata": {},
   "outputs": [
    {
     "data": {
      "text/plain": [
       "Z    0.000000\n",
       "A    0.133333\n",
       "B    0.066667\n",
       "C    0.066667\n",
       "D    0.133333\n",
       "dtype: float64"
      ]
     },
     "execution_count": 14,
     "metadata": {},
     "output_type": "execute_result"
    }
   ],
   "source": [
    "df = df_backup.copy(deep=True) #perintah untuk mengembalikan kondisi dataframe ke bentuk semula\n",
    "df.isna().mean() #perintah untuk mengembalikan setiap missing value di setiap dataframe dan mengkalkulasi rata rata yang dimiliki olrh setiap dataframe"
   ]
  },
  {
   "cell_type": "code",
   "execution_count": 16,
   "id": "4b2324ec",
   "metadata": {},
   "outputs": [
    {
     "data": {
      "text/html": [
       "<div>\n",
       "<style scoped>\n",
       "    .dataframe tbody tr th:only-of-type {\n",
       "        vertical-align: middle;\n",
       "    }\n",
       "\n",
       "    .dataframe tbody tr th {\n",
       "        vertical-align: top;\n",
       "    }\n",
       "\n",
       "    .dataframe thead th {\n",
       "        text-align: right;\n",
       "    }\n",
       "</style>\n",
       "<table border=\"1\" class=\"dataframe\">\n",
       "  <thead>\n",
       "    <tr style=\"text-align: right;\">\n",
       "      <th></th>\n",
       "      <th>Z</th>\n",
       "      <th>B</th>\n",
       "      <th>C</th>\n",
       "    </tr>\n",
       "  </thead>\n",
       "  <tbody>\n",
       "    <tr>\n",
       "      <th>0</th>\n",
       "      <td>qAHw6wkkmc</td>\n",
       "      <td>-0.395847</td>\n",
       "      <td>-0.070466</td>\n",
       "    </tr>\n",
       "    <tr>\n",
       "      <th>1</th>\n",
       "      <td>HmX4CtqtvU</td>\n",
       "      <td>-0.644771</td>\n",
       "      <td>NaN</td>\n",
       "    </tr>\n",
       "    <tr>\n",
       "      <th>2</th>\n",
       "      <td>5tB1NeiAQf</td>\n",
       "      <td>1.243468</td>\n",
       "      <td>1.693795</td>\n",
       "    </tr>\n",
       "    <tr>\n",
       "      <th>3</th>\n",
       "      <td>MzwpgPsDpe</td>\n",
       "      <td>NaN</td>\n",
       "      <td>-0.109667</td>\n",
       "    </tr>\n",
       "    <tr>\n",
       "      <th>4</th>\n",
       "      <td>vJ2HgLg0O6</td>\n",
       "      <td>-0.878221</td>\n",
       "      <td>-1.770183</td>\n",
       "    </tr>\n",
       "  </tbody>\n",
       "</table>\n",
       "</div>"
      ],
      "text/plain": [
       "            Z         B         C\n",
       "0  qAHw6wkkmc -0.395847 -0.070466\n",
       "1  HmX4CtqtvU -0.644771       NaN\n",
       "2  5tB1NeiAQf  1.243468  1.693795\n",
       "3  MzwpgPsDpe       NaN -0.109667\n",
       "4  vJ2HgLg0O6 -0.878221 -1.770183"
      ]
     },
     "execution_count": 16,
     "metadata": {},
     "output_type": "execute_result"
    }
   ],
   "source": [
    "treshold = len(df) * 0.9 #perintah untuk membuat batasan Dataframe yang menhilang setidaknya 90 %\n",
    "df = df.dropna(thresh=treshold, axis='columns') #perintah untuk menghilangkan setiap missing value yang sudah diatas 90% di kolom\n",
    "df.head()"
   ]
  },
  {
   "cell_type": "code",
   "execution_count": null,
   "id": "7a7198b3",
   "metadata": {},
   "outputs": [],
   "source": []
  }
 ],
 "metadata": {
  "kernelspec": {
   "display_name": "Python 3",
   "language": "python",
   "name": "python3"
  },
  "language_info": {
   "codemirror_mode": {
    "name": "ipython",
    "version": 3
   },
   "file_extension": ".py",
   "mimetype": "text/x-python",
   "name": "python",
   "nbconvert_exporter": "python",
   "pygments_lexer": "ipython3",
   "version": "3.8.8"
  }
 },
 "nbformat": 4,
 "nbformat_minor": 5
}
